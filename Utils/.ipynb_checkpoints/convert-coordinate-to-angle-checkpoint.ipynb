{
 "cells": [
  {
   "cell_type": "markdown",
   "id": "0b7a9e28",
   "metadata": {},
   "source": [
    "참고 수식: https://math.stackexchange.com/questions/28043/finding-the-z-value-on-a-plane-with-x-y-values"
   ]
  },
  {
   "cell_type": "code",
   "execution_count": 1,
   "id": "1262abed",
   "metadata": {
    "scrolled": true
   },
   "outputs": [
    {
     "name": "stdout",
     "output_type": "stream",
     "text": [
      "x, y, z를 입력하세요 (예: 10 5 12), 0 to quit >>> 1 2 3\n",
      "x, y, z를 입력하세요 (예: 10 5 12), 0 to quit >>> 1 0 1\n",
      "x, y, z를 입력하세요 (예: 10 5 12), 0 to quit >>> -2 1 0\n",
      "x, y, z를 입력하세요 (예: 10 5 12), 0 to quit >>> 0\n"
     ]
    }
   ],
   "source": [
    "#입력부\n",
    "points = []\n",
    "\n",
    "user_input = \"\" # 사용자 입력\n",
    "while True:\n",
    "    user_input = input(\"x좌표, y좌표, x도를 입력하세요 (예: 10 5 12), 0 to quit >>> \")\n",
    "    \n",
    "    if user_input == \"0\":\n",
    "        break\n",
    "    \n",
    "    temp = list(map(int, user_input.split()))\n",
    "    points.append(temp)\n",
    "\n",
    "# x좌표, y좌표, x도"
   ]
  },
  {
   "cell_type": "code",
   "execution_count": 2,
   "id": "36e6312a",
   "metadata": {},
   "outputs": [
    {
     "data": {
      "text/plain": [
       "[[1, 2, 3], [1, 0, 1], [-2, 1, 0]]"
      ]
     },
     "execution_count": 2,
     "metadata": {},
     "output_type": "execute_result"
    }
   ],
   "source": [
    "points"
   ]
  },
  {
   "cell_type": "code",
   "execution_count": 3,
   "id": "2ba73420",
   "metadata": {},
   "outputs": [
    {
     "data": {
      "text/plain": [
       "[([1, 2, 3], [1, 0, 1], [-2, 1, 0]),\n",
       " ([1, 2, 3], [-2, 1, 0], [1, 0, 1]),\n",
       " ([1, 0, 1], [1, 2, 3], [-2, 1, 0]),\n",
       " ([1, 0, 1], [-2, 1, 0], [1, 2, 3]),\n",
       " ([-2, 1, 0], [1, 2, 3], [1, 0, 1]),\n",
       " ([-2, 1, 0], [1, 0, 1], [1, 2, 3])]"
      ]
     },
     "execution_count": 3,
     "metadata": {},
     "output_type": "execute_result"
    }
   ],
   "source": [
    "# 모든 조합\n",
    "from itertools import permutations\n",
    "\n",
    "per_list = list(permutations(points, 3))\n",
    "per_list"
   ]
  },
  {
   "cell_type": "code",
   "execution_count": 4,
   "id": "1ef3fab4",
   "metadata": {},
   "outputs": [],
   "source": [
    "import numpy as np\n",
    "\n",
    "rstk = []\n",
    "\n",
    "for data in per_list:\n",
    "    # v1 = (𝑎1,𝑏1,𝑐1)−(𝑎2,𝑏2,𝑐2) = (𝑎1−𝑎2,𝑏1−𝑏2,𝑐1−𝑐2)\n",
    "    v1 = (data[0][0]-data[1][0], data[0][1]-data[1][1], data[0][2]-data[1][2])\n",
    "    # v2 = (𝑎1,𝑏1,𝑐1)−(𝑎3,𝑏3,𝑐3)=(𝑎1−𝑎3,𝑏1−𝑏3,𝑐1−𝑐3)\n",
    "    v2 = (data[0][0]-data[2][0], data[0][1]-data[2][1], data[0][2]-data[2][2])\n",
    "    \n",
    "    # 𝐧=𝐯1×𝐯2=(𝑟,𝑠,𝑡) cross product\n",
    "    r, s, t = np.cross(v1, v2)\n",
    "    \n",
    "    # 𝑘=𝑟𝑎1+𝑠𝑏1+𝑡𝑐1\n",
    "    k = r*data[0][0] + s*data[0][1] + t*data[0][2]\n",
    "    \n",
    "    rstk.append((r, s, t, k))\n",
    "    "
   ]
  },
  {
   "cell_type": "code",
   "execution_count": 5,
   "id": "3b7fd9e6",
   "metadata": {
    "scrolled": true
   },
   "outputs": [
    {
     "data": {
      "text/plain": [
       "[(4, 6, -6, -2),\n",
       " (-4, -6, 6, 2),\n",
       " (-4, -6, 6, 2),\n",
       " (4, 6, -6, -2),\n",
       " (4, 6, -6, -2),\n",
       " (-4, -6, 6, 2)]"
      ]
     },
     "execution_count": 5,
     "metadata": {},
     "output_type": "execute_result"
    }
   ],
   "source": [
    "rstk"
   ]
  },
  {
   "cell_type": "code",
   "execution_count": 6,
   "id": "5dee6ed4",
   "metadata": {},
   "outputs": [],
   "source": [
    "sum_r = 0\n",
    "sum_s = 0\n",
    "sum_t = 0\n",
    "sum_k = 0\n",
    "\n",
    "for data in rstk:\n",
    "    sum_r = data[0]\n",
    "    sum_s = data[1]\n",
    "    sum_t = data[2]\n",
    "    sum_k = data[3]\n",
    "\n",
    "avg_r = sum_r / len(rstk)\n",
    "avg_s = sum_s / len(rstk)\n",
    "avg_t = sum_t / len(rstk)\n",
    "avg_k = sum_k / len(rstk)"
   ]
  },
  {
   "cell_type": "code",
   "execution_count": 10,
   "id": "d06fa27a",
   "metadata": {
    "scrolled": true
   },
   "outputs": [
    {
     "name": "stdout",
     "output_type": "stream",
     "text": [
      "x, y >> 7 -2\n",
      "2.999999999999999\n"
     ]
    }
   ],
   "source": [
    "# x, y 입력부\n",
    "x, y = map(int, input(\"x, y >> \").split())\n",
    "\n",
    "z = (1/avg_t)*(avg_k - avg_r*x - avg_s*y)"
   ]
  },
  {
   "cell_type": "code",
   "execution_count": 11,
   "id": "9cc4fb55",
   "metadata": {},
   "outputs": [
    {
     "data": {
      "text/plain": [
       "2.999999999999999"
      ]
     },
     "execution_count": 11,
     "metadata": {},
     "output_type": "execute_result"
    }
   ],
   "source": [
    "z"
   ]
  },
  {
   "cell_type": "code",
   "execution_count": null,
   "id": "1759a204",
   "metadata": {},
   "outputs": [],
   "source": [
    "y = "
   ]
  }
 ],
 "metadata": {
  "kernelspec": {
   "display_name": "Python 3 (ipykernel)",
   "language": "python",
   "name": "python3"
  },
  "language_info": {
   "codemirror_mode": {
    "name": "ipython",
    "version": 3
   },
   "file_extension": ".py",
   "mimetype": "text/x-python",
   "name": "python",
   "nbconvert_exporter": "python",
   "pygments_lexer": "ipython3",
   "version": "3.9.7"
  }
 },
 "nbformat": 4,
 "nbformat_minor": 5
}
